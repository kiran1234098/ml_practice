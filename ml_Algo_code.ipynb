{
 "cells": [
  {
   "cell_type": "code",
   "execution_count": null,
   "metadata": {},
   "outputs": [],
   "source": [
    "from sklearn.model_selection import train_test_split\n",
    "from sklearn.linear_model import LogisticRegression\n",
    "from sklearn.tree import DecisionTreeClassifier\n",
    "from sklearn.ensemble import RandomForestClassifier\n",
    "from sklearn.naive_bayes import GussianNB\n",
    "from sklearn.svm import SVC\n",
    "from sklearn.neighbors import KNeighborsClassifier\n",
    "from sklearn.metrics import accuracy_score,precision_score,recall_score,f1_score"
   ]
  },
  {
   "cell_type": "code",
   "execution_count": null,
   "metadata": {},
   "outputs": [],
   "source": [
    "# step 1: Data Preprocessing\n",
    "# Assume X contain the features and y contains the target variables\n",
    "X_train,X_test,y_train,y_test = train_test_split(X,y,test_size=0.2,random_state=42)"
   ]
  },
  {
   "cell_type": "code",
   "execution_count": null,
   "metadata": {},
   "outputs": [],
   "source": [
    "# Logistic Regression\n",
    "logreg =LogisticRegression()\n",
    "lagreg.fit(X_train,y_train)\n",
    "y_pred_logreg =logreg.predict(X_test)\n",
    "accuracy_logreg =accuracy_score(y_test,y_pred_logreg)\n",
    "precison_logreg = precision_score(y_test,y_pred_logreg)\n",
    "recall_logreg = recall_score(y_test,y_pred_logreg)\n",
    "recall_logreg = recall_score(y_test,y_pred_logreg)\n",
    "f1_score_logreg=f1_score(y_train,y_pred_logreg)"
   ]
  },
  {
   "cell_type": "code",
   "execution_count": null,
   "metadata": {},
   "outputs": [],
   "source": [
    "# Decision Trees\n",
    "dt = DecisionTreeClassifier()\n",
    "dt.fit(X_train,y_train)\n",
    "y_pred_dt = dt.predict(X_test)\n",
    "accuracy_dt = accuracy_score(y_test,y_pred_dt)\n",
    "precision_score=precision_score(y_test,y_pred_dt)\n",
    "recall_logreg =recall_score(y_test,y_pred_dt)\n",
    "f1_score_dt = f1_score(y_test,y_pred_dt)"
   ]
  },
  {
   "cell_type": "code",
   "execution_count": null,
   "metadata": {},
   "outputs": [],
   "source": [
    "# Random Forest\n",
    "rf = RandomForestClassifier()\n",
    "rf.fit(X_train,y_train)\n",
    "y_pred_rf =rf.predict(X_test)\n",
    "accuracy_rf = accuracy_score(y_test,y_pred_rf)\n",
    "precision_rf - precision_score(y_test,y_pred_rf)\n",
    "recall_rf = recall_score(y_test,y_pre_rf)\n",
    "f1_score_rf =f1_score(y_test,y_pre_rf)"
   ]
  },
  {
   "cell_type": "code",
   "execution_count": null,
   "metadata": {},
   "outputs": [],
   "source": [
    "# Naive Bayes\n",
    "nb = GaussianNB()\n",
    "nb.fit(X_train,y_train)\n",
    "y_pred_nb = nb.predict(X_test)\n",
    "accuracy_nb = accuracy_score(y_test,y_pred_nb)\n",
    "precision_nb =precision_score(y_test,y_pred_nb)\n",
    "recall_nb = recall_score(y_test,y_pred_nb)\n",
    "f1_score_nb = f1_score(y_test,y_pred_nb)"
   ]
  },
  {
   "cell_type": "code",
   "execution_count": null,
   "metadata": {},
   "outputs": [],
   "source": [
    "# support vector Machines(svm)\n",
    "svm =SVC()\n",
    "svm.fit(X_train,y_train)\n",
    "y_pred_svm = svm.predict(X_test)\n",
    "accuracy_svm =accuracy_score(y_test,y_pred_svm)\n",
    "precision_svm =precision_score(y_test,y_pred_svm)\n",
    "recall_svm =recall_score(y_test,y_pred_svm)\n",
    "f1_score_svm=f1_scoreK(y_test,y_pred_svm)\n"
   ]
  },
  {
   "cell_type": "code",
   "execution_count": null,
   "metadata": {},
   "outputs": [],
   "source": [
    "#  K-nearest neighborns (knn)\n",
    "knn = KNeighborsClassifier()\n",
    "knn.fit(X_train,y_test)\n",
    "y_pred_knn = knn.predict(X_test)\n",
    "accuracy_knn = accuracy_score(y_test, y_pred_knn)\n",
    "precision_knn = precision_score(y_test, y_pred_knn)\n",
    "recall_knn = recall_score(y_test, y_pred_knn)\n",
    "f1_score_knn = f1_score(y_test, y_pred_knn)\n"
   ]
  },
  {
   "cell_type": "code",
   "execution_count": null,
   "metadata": {},
   "outputs": [],
   "source": [
    "# Print evaluation metrics for each algorithm\n",
    "print(\"Logistic Regression:\")\n",
    "print(\"Accuracy:\", accuracy_logreg)\n",
    "print(\"Precision:\", precision_logreg)\n",
    "print(\"Recall:\", recall_logreg)b "
   ]
  }
 ],
 "metadata": {
  "language_info": {
   "name": "python"
  },
  "orig_nbformat": 4
 },
 "nbformat": 4,
 "nbformat_minor": 2
}
