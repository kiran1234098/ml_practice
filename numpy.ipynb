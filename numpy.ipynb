{
 "cells": [
  {
   "cell_type": "code",
   "execution_count": 1,
   "metadata": {},
   "outputs": [],
   "source": [
    "import numpy as np"
   ]
  },
  {
   "cell_type": "markdown",
   "metadata": {},
   "source": [
    "Creating Arrays:"
   ]
  },
  {
   "cell_type": "code",
   "execution_count": 3,
   "metadata": {},
   "outputs": [
    {
     "name": "stdout",
     "output_type": "stream",
     "text": [
      "creates a [1 2 3 4 5] array of zeros\n",
      "create a 3*4 array of zeros[[0. 0. 0. 0.]\n",
      " [0. 0. 0. 0.]\n",
      " [0. 0. 0. 0.]]\n",
      "create a 2*3 array of ones [[1. 1. 1.]\n",
      " [1. 1. 1.]]\n",
      "ceates an array [0,2,3,4,6,8]=[0 2 4 6 8]\n",
      "[0.   0.25 0.5  0.75 1.  ]\n"
     ]
    }
   ],
   "source": [
    "#create an arrays from a Python list\n",
    "arr = np.array([1,2,3,4,5])\n",
    "print(f\"creates a {arr} array of zeros\")\n",
    "\n",
    "# Create an array filled with zeros\n",
    "\n",
    "zeros_arr = np.zeros((3,4))\n",
    "print(f\"create a 3*4 array of zeros{zeros_arr}\")\n",
    "\n",
    "#Creates an array filled with ones\n",
    "ones_arr=np.ones((2,3))\n",
    "print(f\"create a 2*3 array of ones {ones_arr}\")\n",
    "\n",
    "# create an array with a range of values\n",
    "range_arr =np.arange(0,10,2)\n",
    "print(f\"ceates an array [0,2,3,4,6,8]={range_arr}\")\n",
    "\n",
    "#create an array with evenly spaced value\n",
    "linspace_arr = np.linspace(0,1,5)\n",
    "print(linspace_arr)\n",
    "\n"
   ]
  },
  {
   "cell_type": "markdown",
   "metadata": {},
   "source": [
    "Array Operations:"
   ]
  },
  {
   "cell_type": "code",
   "execution_count": 5,
   "metadata": {},
   "outputs": [
    {
     "name": "stdout",
     "output_type": "stream",
     "text": [
      "[1 2 3] [1 2 4]\n",
      "addition [2 4 7]\n",
      "minus= [ 0  0 -1]\n",
      "multiply [ 1  4 12]\n",
      "divide [1.   1.   0.75]\n"
     ]
    }
   ],
   "source": [
    "arr1 =np.array([1,2,3])\n",
    "arr2 = np.array([1,2,4])\n",
    "print(arr1,arr2)\n",
    "\n",
    "# Arithmetic operations\n",
    "addition = arr1 + arr2\n",
    "print(f\"addition {addition}\")\n",
    "\n",
    "minus = arr1 -arr2\n",
    "print(f\"minus= {minus}\")\n",
    "\n",
    "multiply = arr1 * arr2\n",
    "print(f\"multiply {multiply}\")\n",
    "\n",
    "divide = arr1 / arr2\n",
    "print(f\"divide {divide}\")\n"
   ]
  },
  {
   "cell_type": "code",
   "execution_count": 8,
   "metadata": {},
   "outputs": [
    {
     "name": "stdout",
     "output_type": "stream",
     "text": [
      "the array in which [1 8 3]\n",
      " \n",
      "squrt of arr = [1 8 3]\n",
      "expontion of array =[2.71828183e+00 2.98095799e+03 2.00855369e+01]\n",
      "log of the array = [0.         2.07944154 1.09861229]\n"
     ]
    }
   ],
   "source": [
    "# Element-wise operations\n",
    "\n",
    "arr =np.array([1,8,3])\n",
    "print(f\"the array in which {arr}\")\n",
    "print(' ')\n",
    "sqrt_arr = np.sqrt(arr)\n",
    "print(f\"squrt of arr = {arr}\")\n",
    "\n",
    "exp_arr = np.exp(arr)\n",
    "print(f\"expontion of array ={exp_arr}\")\n",
    "\n",
    "log_arr = np.log(arr)\n",
    "print(f\"log of the array = {log_arr}\")\n",
    "\n"
   ]
  },
  {
   "cell_type": "code",
   "execution_count": 10,
   "metadata": {},
   "outputs": [
    {
     "name": "stdout",
     "output_type": "stream",
     "text": [
      "[1 8 3]\n",
      "sum =12\n",
      "arr_mean4.0\n",
      "max8\n",
      "arr_min1\n"
     ]
    }
   ],
   "source": [
    "# Aggregation\n",
    "print(arr)\n",
    "arr_sum =np.sum(arr)\n",
    "print(f\"sum ={arr_sum}\")\n",
    "arr_mean = np.mean(arr)\n",
    "print(f\"arr_mean{arr_mean}\")\n",
    "arr_max = np.max(arr)\n",
    "print(f'max{arr_max}')\n",
    "\n",
    "arr_min = np.min(arr)\n",
    "print(f\"arr_min{arr_min}\")"
   ]
  },
  {
   "cell_type": "markdown",
   "metadata": {},
   "source": [
    "Indexing and Slicing:"
   ]
  },
  {
   "cell_type": "code",
   "execution_count": 11,
   "metadata": {},
   "outputs": [
    {
     "name": "stdout",
     "output_type": "stream",
     "text": [
      "[1 8 3]\n",
      "access the first element 1\n",
      "access the last element3\n",
      "slice elements from index 2 to 4 (exclusive)[3]\n",
      "reverse the array [3 8 1]\n"
     ]
    }
   ],
   "source": [
    "print(arr)\n",
    "# Accessing elements\n",
    "element =arr[0]\n",
    "print(f\"access the first element {element}\")\n",
    "last_element = arr[-1]\n",
    "print(f'access the last element{last_element}')\n",
    "\n",
    "#slicing \n",
    "subset =arr[2:5]\n",
    "print(f\"slice elements from index 2 to 4 (exclusive){subset}\")\n",
    "\n",
    "reverse_arr = arr[::-1]\n",
    "print(f\"reverse the array {reverse_arr}\")\n"
   ]
  },
  {
   "cell_type": "markdown",
   "metadata": {},
   "source": [
    "Shape Manipulation:"
   ]
  },
  {
   "cell_type": "code",
   "execution_count": 15,
   "metadata": {},
   "outputs": [
    {
     "name": "stdout",
     "output_type": "stream",
     "text": [
      "[1 8 3]\n",
      "reshape arr to a 1*3 array [[1 8 3]]\n",
      "transepose ar[1 8 3]\n",
      "cancanated array [1 8 3 1 8 3]\n"
     ]
    }
   ],
   "source": [
    "print(arr)\n",
    "# Reshaped and array\n",
    "Reshaped_arr =arr.reshape((1,3))\n",
    "print(f'reshape arr to a 1*3 array {Reshaped_arr}')\n",
    "\n",
    "#Transose an array\n",
    "Transose_arr = arr.T \n",
    "print(f\"transepose ar{Transose_arr}\")\n",
    "\n",
    "# concatenate arrays\n",
    "concatenated_arr = np.concatenate((arr,arr),axis=0)\n",
    "print(f\"cancanated array {concatenated_arr}\")"
   ]
  },
  {
   "cell_type": "markdown",
   "metadata": {},
   "source": [
    "Linear Algebra Operations:"
   ]
  },
  {
   "cell_type": "code",
   "execution_count": 17,
   "metadata": {},
   "outputs": [
    {
     "name": "stdout",
     "output_type": "stream",
     "text": [
      "Matrix multiplication using np.dot():\n",
      "[[ 58  64]\n",
      " [139 154]]\n",
      "Matrix multiplication using @ operator:\n",
      "[[ 58  64]\n",
      " [139 154]]\n"
     ]
    }
   ],
   "source": [
    "import numpy as np\n",
    "\n",
    "arr1 = np.array([[1, 2, 3],\n",
    "                 [4, 5, 6]])\n",
    "arr2 = np.array([[7, 8],\n",
    "                 [9, 10],\n",
    "                 [11, 12]])\n",
    "\n",
    "# Matrix multiplication using np.dot()\n",
    "mat_mult_dot = np.dot(arr1, arr2)\n",
    "print(f\"Matrix multiplication using np.dot():\\n{mat_mult_dot}\")\n",
    "# Output:\n",
    "# Matrix multiplication using np.dot():\n",
    "# [[ 58  64]\n",
    "#  [139 154]]\n",
    "\n",
    "# Matrix multiplication using @ operator\n",
    "mat_mult_simple = arr1 @ arr2\n",
    "print(f\"Matrix multiplication using @ operator:\\n{mat_mult_simple}\")\n",
    "# Output:\n",
    "# Matrix multiplication using @ operator:\n",
    "# [[ 58  64]\n",
    "#  [139 154]]\n",
    "\n",
    "\n"
   ]
  },
  {
   "cell_type": "markdown",
   "metadata": {},
   "source": [
    "# Solving linear systems\n",
    "solution = np.linalg.solve(coeff_matrix, const_vector)\n",
    "\n",
    "# Computing eigenvalues and eigenvectors\n",
    "eigenvalues, eigenvectors = np.linalg.eig(matrix)"
   ]
  },
  {
   "cell_type": "code",
   "execution_count": 19,
   "metadata": {},
   "outputs": [
    {
     "name": "stdout",
     "output_type": "stream",
     "text": [
      "generate a 3* 3 array of random integers[[6 3 7]\n",
      " [4 6 9]\n",
      " [2 6 7]]\n",
      "generate a 2*2 array of random floats between  0 and 1[[0.33370861 0.14286682]\n",
      " [0.65088847 0.05641158]]\n",
      "None\n"
     ]
    }
   ],
   "source": [
    "# Generate random integers\n",
    "random_int = np.random.randint(low=0,high=10,size=(3,3))\n",
    "print(f\"generate a 3* 3 array of random integers{random_int}\")\n",
    "\n",
    "#Generate random floats\n",
    "random_float = np.random.random(size=(2,2))\n",
    "print(f\"generate a 2*2 array of random floats between  0 and 1{random_float}\")\n",
    "\n",
    "#Set seed for reproducibility\n",
    "s=np.random.seed(42)\n",
    "print(s)"
   ]
  },
  {
   "cell_type": "code",
   "execution_count": null,
   "metadata": {},
   "outputs": [],
   "source": []
  }
 ],
 "metadata": {
  "kernelspec": {
   "display_name": "Python 3.8.10 64-bit",
   "language": "python",
   "name": "python3"
  },
  "language_info": {
   "codemirror_mode": {
    "name": "ipython",
    "version": 3
   },
   "file_extension": ".py",
   "mimetype": "text/x-python",
   "name": "python",
   "nbconvert_exporter": "python",
   "pygments_lexer": "ipython3",
   "version": "3.8.10"
  },
  "orig_nbformat": 4,
  "vscode": {
   "interpreter": {
    "hash": "e7370f93d1d0cde622a1f8e1c04877d8463912d04d973331ad4851f04de6915a"
   }
  }
 },
 "nbformat": 4,
 "nbformat_minor": 2
}
