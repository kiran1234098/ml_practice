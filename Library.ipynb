{
 "cells": [
  {
   "cell_type": "markdown",
   "metadata": {},
   "source": [
    "NumPy: A fundamental library for numerical computing in Python. It provides support for large, multi-dimensional arrays and matrices, along with a collection of mathematical functions to operate on these arrays efficiently.\n",
    "\n",
    "Pandas: A powerful library for data manipulation and analysis. It provides data structures like DataFrame and Series, which allow for easy handling, cleaning, and exploration of structured data.\n",
    "\n",
    "Matplotlib: A versatile library for creating static, animated, and interactive visualizations in Python. It offers a wide range of plotting functionalities to visualize data in different formats and styles.\n",
    "\n",
    "Seaborn: Built on top of Matplotlib, Seaborn provides a higher-level interface for statistical data visualization. It offers beautiful and informative statistical graphics, making it easier to create visually appealing visualizations.\n",
    "\n",
    "Scikit-learn: A comprehensive machine learning library that provides various algorithms and tools for tasks like classification, regression, clustering, dimensionality reduction, and model evaluation. It also includes utilities for data preprocessing and feature engineering.\n",
    "\n",
    "TensorFlow: An open-source library developed by Google for machine learning and deep learning. It offers a flexible framework to build and train different types of neural networks, with support for both CPU and GPU computations.\n",
    "\n",
    "Keras: A high-level neural networks API, written in Python and capable of running on top of TensorFlow, CNTK, or Theano. Keras simplifies the process of building and training neural networks, making it easier to experiment with different architectures and configurations.\n",
    "\n",
    "PyTorch: Another popular open-source library for deep learning. PyTorch provides a dynamic computational graph and a large collection of tools and modules for building and training neural networks.\n",
    "\n",
    "Statsmodels: A library focused on statistical modeling and estimation. It provides a wide range of statistical models, including regression, time series analysis, and hypothesis testing.\n",
    "\n",
    "SciPy: A library that builds on NumPy and provides additional functionality for scientific and technical computing. It includes modules for optimization, integration, linear algebra, signal processing, and more.\n",
    "\n",
    "NLTK (Natural Language Toolkit): A library for working with human language data. It provides tools and resources for tasks like tokenization, stemming, part-of-speech tagging, and text classification.\n",
    "\n",
    "OpenCV: An open-source computer vision library with a wide range of functions and algorithms for image and video processing, object detection, feature extraction, and more.\n",
    "\n",
    "These are just a few examples of the many libraries available for data science tasks. Depending on your specific needs and requirements, you may find other libraries that are suitable for your projects.\n",
    "\n",
    "\n",
    "\n",
    "\n",
    "\n",
    "\n"
   ]
  },
  {
   "cell_type": "markdown",
   "metadata": {},
   "source": [
    "# command to install data science library"
   ]
  },
  {
   "cell_type": "markdown",
   "metadata": {},
   "source": [
    "pip install numpy\n"
   ]
  },
  {
   "cell_type": "code",
   "execution_count": null,
   "metadata": {},
   "outputs": [],
   "source": [
    "pip install pandas\n"
   ]
  },
  {
   "cell_type": "code",
   "execution_count": null,
   "metadata": {},
   "outputs": [],
   "source": [
    "pip install matplotlib\n"
   ]
  },
  {
   "cell_type": "code",
   "execution_count": null,
   "metadata": {},
   "outputs": [],
   "source": [
    "pip install seaborn\n"
   ]
  },
  {
   "cell_type": "code",
   "execution_count": null,
   "metadata": {},
   "outputs": [],
   "source": [
    "pip install scikit-learn\n"
   ]
  },
  {
   "cell_type": "code",
   "execution_count": null,
   "metadata": {},
   "outputs": [],
   "source": [
    "pip install tensorflow\n"
   ]
  },
  {
   "cell_type": "code",
   "execution_count": null,
   "metadata": {},
   "outputs": [],
   "source": [
    "pip install keras\n"
   ]
  },
  {
   "cell_type": "code",
   "execution_count": null,
   "metadata": {},
   "outputs": [],
   "source": [
    "pip install torch torchvision\n"
   ]
  },
  {
   "cell_type": "code",
   "execution_count": null,
   "metadata": {},
   "outputs": [],
   "source": [
    "pip install statsmodels\n"
   ]
  },
  {
   "cell_type": "code",
   "execution_count": null,
   "metadata": {},
   "outputs": [],
   "source": [
    "pip install scipy\n"
   ]
  },
  {
   "cell_type": "code",
   "execution_count": null,
   "metadata": {},
   "outputs": [],
   "source": [
    "pip install nltk\n"
   ]
  },
  {
   "cell_type": "code",
   "execution_count": null,
   "metadata": {},
   "outputs": [],
   "source": [
    "pip install opencv-python\n"
   ]
  },
  {
   "cell_type": "code",
   "execution_count": null,
   "metadata": {},
   "outputs": [],
   "source": []
  },
  {
   "cell_type": "markdown",
   "metadata": {},
   "source": [
    "# import"
   ]
  },
  {
   "cell_type": "code",
   "execution_count": null,
   "metadata": {},
   "outputs": [],
   "source": [
    "import numpy as np\n",
    "import pandas as pd\n",
    "import matplotlib.pyplot as plt\n",
    "import seaborn as sns\n",
    "import sklearn\n",
    "import tensorflow as tf\n",
    "import keras\n",
    "import torch\n",
    "import torchvision\n",
    "import statsmodels.api as sm\n",
    "import scipy\n",
    "import nltk\n",
    "import cv2\n"
   ]
  }
 ],
 "metadata": {
  "language_info": {
   "name": "python"
  },
  "orig_nbformat": 4
 },
 "nbformat": 4,
 "nbformat_minor": 2
}
