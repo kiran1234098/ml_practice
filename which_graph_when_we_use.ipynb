{
 "cells": [
  {
   "cell_type": "code",
   "execution_count": null,
   "metadata": {},
   "outputs": [],
   "source": []
  },
  {
   "cell_type": "markdown",
   "metadata": {},
   "source": [
    "Bar Chart: Bar charts are used to compare categorical data or discrete values. They are effective in visualizing the frequency, distribution, or comparison of different categories or groups. Bar charts are commonly used for displaying survey results, market shares, or comparing data across different time periods.\n",
    "\n",
    "Line Chart: Line charts are used to display trends and patterns over time or continuous data points. They are useful for visualizing data with a natural progression, such as stock prices, temperature changes, or sales trends. Line charts help identify patterns, spot outliers, and observe changes in data over time.\n",
    "\n",
    "Pie Chart: Pie charts are used to represent proportions or percentages of a whole. They are effective in visualizing the relative contribution or distribution of different categories within a dataset. Pie charts are commonly used to show market shares, budget allocations, or demographic distributions.\n",
    "\n",
    "Scatter Plot: Scatter plots are used to display the relationship between two continuous variables. They are helpful in identifying correlations, clusters, or outliers within the data. Scatter plots are commonly used in scientific research, social sciences, and machine learning to explore relationships and identify patterns.\n",
    "\n",
    "Histogram: Histograms are used to visualize the distribution of continuous or numerical data. They display the frequency or count of data within specific ranges or bins. Histograms are useful in understanding the shape, skewness, and spread of the data distribution, and they are commonly used in statistical analysis and data exploration.\n",
    "\n",
    "Heatmap: Heatmaps are used to visualize the intensity or magnitude of values within a matrix or tabular data. They use color gradients to represent the values, allowing patterns, correlations, or clusters to be easily identified. Heatmaps are commonly used in data analysis, genetics, finance, and other fields where matrix data is prevalent."
   ]
  }
 ],
 "metadata": {
  "language_info": {
   "name": "python"
  },
  "orig_nbformat": 4
 },
 "nbformat": 4,
 "nbformat_minor": 2
}
